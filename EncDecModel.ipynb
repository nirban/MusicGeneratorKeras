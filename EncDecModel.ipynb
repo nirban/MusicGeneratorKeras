{
 "cells": [
  {
   "cell_type": "code",
   "execution_count": 2,
   "metadata": {},
   "outputs": [
    {
     "name": "stderr",
     "output_type": "stream",
     "text": [
      "Using TensorFlow backend.\n"
     ]
    }
   ],
   "source": [
    "from keras.models import Sequential\n",
    "from keras.layers import Dense\n",
    "from keras.layers import Dropout\n",
    "from keras.layers import LSTM\n",
    "from keras.layers import TimeDistributed\n",
    "from keras.layers import RepeatVector, Input\n",
    "from keras.layers.normalization import BatchNormalization\n",
    "from keras.callbacks import EarlyStopping, History, TensorBoard\n",
    "from keras.optimizers import Adam\n",
    "from keras.models import load_model, Model\n",
    "from keras.utils import plot_model\n",
    "\n",
    "from keras import backend as K\n",
    "\n",
    "import matplotlib.pyplot as plt\n",
    "import pandas as pd\n",
    "import numpy as np\n",
    "\n",
    "import tensorflow as tf\n",
    "from tensorflow.python.client import device_lib\n",
    "import os\n",
    "\n",
    "from ConfigConstants import ConfigConstants\n",
    "from Seq2SeqModel import *"
   ]
  },
  {
   "cell_type": "code",
   "execution_count": 57,
   "metadata": {},
   "outputs": [],
   "source": [
    "'''\n",
    "#not required for now\n",
    "from google.colab import drive\n",
    "drive.mount('/content/gdrive')\n",
    "'''"
   ]
  },
  {
   "cell_type": "code",
   "execution_count": 6,
   "metadata": {},
   "outputs": [],
   "source": [
    "'''\n",
    "%cd /content/gdrive/My Drive/MscMusicProject/\n",
    "'''"
   ]
  },
  {
   "cell_type": "code",
   "execution_count": 29,
   "metadata": {},
   "outputs": [],
   "source": [
    "import h5py\n",
    "\n",
    "def loadData():\n",
    "    #f = h5py.File(\"MaestroData10PercentDyn.h5\", 'r')\n",
    "    f = h5py.File(\"MaestroDataMatDyn.h5\", 'r')\n",
    "    X_train = f['X_train']\n",
    "    Y_train = f['Y_train']\n",
    "    X_val = f['X_val']\n",
    "    Y_val = f['Y_val']\n",
    "    print(f.keys())\n",
    "\n",
    "    X_test = f['X_test']\n",
    "    Y_test = f['Y_test']\n",
    "    \n",
    "    return X_train, Y_train, X_val, Y_val, X_test, Y_test"
   ]
  },
  {
   "cell_type": "code",
   "execution_count": 30,
   "metadata": {},
   "outputs": [
    {
     "name": "stdout",
     "output_type": "stream",
     "text": [
      "<KeysViewHDF5 ['X_test', 'X_train', 'X_val', 'Y_test', 'Y_train', 'Y_val']>\n"
     ]
    }
   ],
   "source": [
    "X_train, Y_train, X_val, Y_val, X_test, Y_test = loadData()"
   ]
  },
  {
   "cell_type": "code",
   "execution_count": 34,
   "metadata": {},
   "outputs": [
    {
     "data": {
      "text/plain": [
       "<matplotlib.collections.QuadMesh at 0x7f2c50de5940>"
      ]
     },
     "execution_count": 34,
     "metadata": {},
     "output_type": "execute_result"
    },
    {
     "data": {
      "image/png": "[encoded data removed]",
      "text/plain": [
       "<matplotlib.figure.Figure at 0x7f2c4c747d68>"
      ]
     },
     "metadata": {},
     "output_type": "display_data"
    }
   ],
   "source": [
    "plt.pcolormesh(X_train[18376].T, cmap=plt.cm.Greens)"
   ]
  },
  {
   "cell_type": "code",
   "execution_count": 14,
   "metadata": {},
   "outputs": [
    {
     "name": "stdout",
     "output_type": "stream",
     "text": [
      "Configurations Initialized........\n"
     ]
    }
   ],
   "source": [
    "#Load Hyperparameters\n",
    "cfgConst = ConfigConstants()\n",
    "MICROSECONDS_PER_MINUTE = cfgConst.getMicroSecPerMins()\n",
    "time_per_time_slice = cfgConst.getTimePerTimeSlice()\n",
    "highest_note = cfgConst.getHighestNote()\n",
    "lowest_note = cfgConst.getLowestNote()  # A_2\n",
    "input_dim = cfgConst.getInputDim() # number of notes in input\n",
    "output_dim = cfgConst.getOutputDim()  # number of notes in output\n",
    "\n",
    "x_seq_length = cfgConst.getXSeqLen()  # Piano roll matrix of dimention 50x49\n",
    "y_seq_length = cfgConst.getYSeqLen()\n",
    "\n",
    "num_units = 128\n",
    "\n",
    "#callBacks = [EarlyStopping(monitor='loss', patience=10, min_delta = 0.01 , verbose=0, mode='min'),TensorBoard(log_dir='output/graph_10Per', histogram_freq=1), History()]\n",
    "\n",
    "callBacks = [EarlyStopping(monitor='loss', patience=10, min_delta = 0.01 , verbose=1, mode='min'), History()]"
   ]
  },
  {
   "cell_type": "code",
   "execution_count": 15,
   "metadata": {},
   "outputs": [
    {
     "name": "stderr",
     "output_type": "stream",
     "text": [
      "/home/nirban/PycharmProjects/MscMusicProject/Seq2SeqModel.py:18: UserWarning: The `input_dim` and `input_length` arguments in recurrent layers are deprecated. Use `input_shape` instead.\n",
      "  model.add(LSTM(input_dim=input_dim, output_dim=num_units, activation='tanh', return_sequences=True))\n",
      "/home/nirban/PycharmProjects/MscMusicProject/Seq2SeqModel.py:18: UserWarning: Update your `LSTM` call to the Keras 2 API: `LSTM(return_sequences=True, activation=\"tanh\", input_shape=(None, 49), units=128)`\n",
      "  model.add(LSTM(input_dim=input_dim, output_dim=num_units, activation='tanh', return_sequences=True))\n"
     ]
    },
    {
     "name": "stdout",
     "output_type": "stream",
     "text": [
      "_________________________________________________________________\n",
      "Layer (type)                 Output Shape              Param #   \n",
      "=================================================================\n",
      "lstm_5 (LSTM)                (None, None, 128)         91136     \n",
      "_________________________________________________________________\n",
      "batch_normalization_4 (Batch (None, None, 128)         512       \n",
      "_________________________________________________________________\n",
      "dropout_4 (Dropout)          (None, None, 128)         0         \n",
      "_________________________________________________________________\n",
      "lstm_6 (LSTM)                (None, 128)               131584    \n",
      "_________________________________________________________________\n",
      "dense_3 (Dense)              (None, 128)               16512     \n",
      "_________________________________________________________________\n",
      "repeat_vector_2 (RepeatVecto (None, 50, 128)           0         \n",
      "_________________________________________________________________\n",
      "lstm_7 (LSTM)                (None, 50, 128)           131584    \n",
      "_________________________________________________________________\n",
      "batch_normalization_5 (Batch (None, 50, 128)           512       \n",
      "_________________________________________________________________\n",
      "dropout_5 (Dropout)          (None, 50, 128)           0         \n",
      "_________________________________________________________________\n",
      "lstm_8 (LSTM)                (None, 50, 128)           131584    \n",
      "_________________________________________________________________\n",
      "batch_normalization_6 (Batch (None, 50, 128)           512       \n",
      "_________________________________________________________________\n",
      "dropout_6 (Dropout)          (None, 50, 128)           0         \n",
      "_________________________________________________________________\n",
      "time_distributed_2 (TimeDist (None, 50, 49)            6321      \n",
      "=================================================================\n",
      "Total params: 510,257\n",
      "Trainable params: 509,489\n",
      "Non-trainable params: 768\n",
      "_________________________________________________________________\n"
     ]
    }
   ],
   "source": [
    "#Create Model\n",
    "model = createModel(num_units, input_dim, output_dim, x_seq_length, y_seq_length )\n",
    "model.summary()"
   ]
  },
  {
   "cell_type": "code",
   "execution_count": 16,
   "metadata": {},
   "outputs": [],
   "source": [
    "def saveHistory(history):\n",
    "    print(\"\\nSaving History.....\")\n",
    "    with h5py.File(\"HistoryData.h5\", \"w\") as fl:\n",
    "        for i in history.history.keys():\n",
    "            print(\"\\nSaving : \", i)\n",
    "            fl.create_dataset(i, data=history.history[i])\n",
    "            \n",
    "    print(\"\\nHistory Saved Successfully.....\")"
   ]
  },
  {
   "cell_type": "code",
   "execution_count": null,
   "metadata": {},
   "outputs": [],
   "source": [
    "history = model.fit(X_train, Y_train, validation_data=(X_val, Y_val), batch_size=64, epochs=1, shuffle='batch', callbacks=callBacks)"
   ]
  },
  {
   "cell_type": "code",
   "execution_count": null,
   "metadata": {},
   "outputs": [],
   "source": [
    "model.save('seqTimeDistributedModel.h5')"
   ]
  },
  {
   "cell_type": "code",
   "execution_count": 18,
   "metadata": {},
   "outputs": [
    {
     "ename": "NameError",
     "evalue": "name 'history' is not defined",
     "output_type": "error",
     "traceback": [
      "\u001b[0;31m---------------------------------------------------------------------------\u001b[0m",
      "\u001b[0;31mNameError\u001b[0m                                 Traceback (most recent call last)",
      "\u001b[0;32m<ipython-input-18-f9ef2971e9a6>\u001b[0m in \u001b[0;36m<module>\u001b[0;34m()\u001b[0m\n\u001b[0;32m----> 1\u001b[0;31m \u001b[0msaveHistory\u001b[0m\u001b[0;34m(\u001b[0m\u001b[0mhistory\u001b[0m\u001b[0;34m)\u001b[0m\u001b[0;34m\u001b[0m\u001b[0m\n\u001b[0m",
      "\u001b[0;31mNameError\u001b[0m: name 'history' is not defined"
     ]
    }
   ],
   "source": [
    "saveHistory(history)"
   ]
  },
  {
   "cell_type": "code",
   "execution_count": 15,
   "metadata": {},
   "outputs": [],
   "source": []
  },
  {
   "cell_type": "code",
   "execution_count": null,
   "metadata": {},
   "outputs": [],
   "source": []
  },
  {
   "cell_type": "code",
   "execution_count": null,
   "metadata": {},
   "outputs": [],
   "source": []
  },
  {
   "cell_type": "code",
   "execution_count": 42,
   "metadata": {},
   "outputs": [],
   "source": []
  },
  {
   "cell_type": "code",
   "execution_count": null,
   "metadata": {},
   "outputs": [],
   "source": []
  },
  {
   "cell_type": "code",
   "execution_count": null,
   "metadata": {},
   "outputs": [],
   "source": []
  },
  {
   "cell_type": "code",
   "execution_count": null,
   "metadata": {},
   "outputs": [],
   "source": []
  },
  {
   "cell_type": "code",
   "execution_count": null,
   "metadata": {},
   "outputs": [],
   "source": []
  },
  {
   "cell_type": "code",
   "execution_count": null,
   "metadata": {},
   "outputs": [],
   "source": []
  },
  {
   "cell_type": "code",
   "execution_count": 64,
   "metadata": {},
   "outputs": [],
   "source": []
  },
  {
   "cell_type": "code",
   "execution_count": 1,
   "metadata": {},
   "outputs": [],
   "source": []
  },
  {
   "cell_type": "code",
   "execution_count": null,
   "metadata": {},
   "outputs": [],
   "source": []
  }
 ],
 "metadata": {
  "kernelspec": {
   "display_name": "Python 3",
   "language": "python",
   "name": "python3"
  },
  "language_info": {
   "codemirror_mode": {
    "name": "ipython",
    "version": 3
   },
   "file_extension": ".py",
   "mimetype": "text/x-python",
   "name": "python",
   "nbconvert_exporter": "python",
   "pygments_lexer": "ipython3",
   "version": "3.5.2"
  }
 },
 "nbformat": 4,
 "nbformat_minor": 2
}
